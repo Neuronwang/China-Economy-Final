{
 "cells": [
  {
   "cell_type": "code",
   "execution_count": 1,
   "metadata": {},
   "outputs": [],
   "source": [
    "import numpy as np\n",
    "import pandas as pd"
   ]
  },
  {
   "cell_type": "code",
   "execution_count": 32,
   "metadata": {},
   "outputs": [
    {
     "name": "stdout",
     "output_type": "stream",
     "text": [
      "32\n"
     ]
    },
    {
     "data": {
      "text/plain": [
       "32"
      ]
     },
     "execution_count": 32,
     "metadata": {},
     "output_type": "execute_result"
    }
   ],
   "source": [
    "name_list=[\"北京市\",\"天津市\",\"上海市\",\"重庆市\",\"河南省\",\"山东省\",\"河北省\",\"山西省\",\\\n",
    "              \"陕西省\",\"内蒙古自治区\",\"辽宁省\",\"吉林省\",\"黑龙江省\",\"新疆维吾尔自治区\",\"江西省\"\\\n",
    "              ,\"西藏自治区\",\"青海省\",\"宁夏回族自治区\",\"甘肃省\",\"湖南省\",\"湖北省\",\"安徽省\",\"江苏省\"\\\n",
    "              ,\"浙江省\",\"广东省\",\"广西壮族自治区\",\"四川省\",\"云南省\",\"贵州省\",\"福建省\",\"海南省\",\"中国\"]\n",
    "brief_list=[\"BJ\",\"TJ\",\"SH\",\"CQ\",\"HeN\",\"SD\",\"HeB\",\"SX1\",\"SX2\",\"NMG\",\"LN\",\"JL\",\\\n",
    "               \"HLJ\",\"XJ\",\"JX\",\"XZ\",\"QH\",\"NX\",\"GS\",\"HuN\",\"HuB\",\"AH\",\"JS\",\"ZJ\",\\\n",
    "               \"GD\",\"GX\",\"SC\",\"YN\",\"GZ\",\"FJ\",\"HaN\",\"CHN\"]\n",
    "print(len(name_list))\n",
    "len(brief_list)"
   ]
  },
  {
   "cell_type": "code",
   "execution_count": 34,
   "metadata": {},
   "outputs": [],
   "source": [
    "def replace_name(frame):\n",
    "    for i in range(len(name_list)):\n",
    "        name=name_list[i]\n",
    "        brief=brief_list[i]\n",
    "        frame=frame.replace(name,brief)\n",
    "    return frame"
   ]
  },
  {
   "cell_type": "code",
   "execution_count": 66,
   "metadata": {},
   "outputs": [],
   "source": [
    "data = pd.read_excel(\"中国经济数据汇总.xlsx\",sheetname=list(range(11)))"
   ]
  },
  {
   "cell_type": "code",
   "execution_count": 42,
   "metadata": {},
   "outputs": [],
   "source": [
    "Patent_Inv = replace_name(data[0][[\"SgnYear\",\"AreaName\",\"Patent_Inv\"]])"
   ]
  },
  {
   "cell_type": "code",
   "execution_count": 41,
   "metadata": {},
   "outputs": [],
   "source": [
    "RD_exp=replace_name(data[1][[\"SgnYear\",\"AreaName\",\"R&D_Expend\"]])"
   ]
  },
  {
   "cell_type": "code",
   "execution_count": 44,
   "metadata": {},
   "outputs": [],
   "source": [
    "Num_Researcher = replace_name(data[2][[\"SgnYear\",\"AreaName\",\"Num_Researcher\"]])"
   ]
  },
  {
   "cell_type": "code",
   "execution_count": 46,
   "metadata": {},
   "outputs": [],
   "source": [
    "Patent_Apply= replace_name(data[3][[\"SgnYear\",\"AreaName\",\"Patent_Apply\"]])"
   ]
  },
  {
   "cell_type": "code",
   "execution_count": 54,
   "metadata": {},
   "outputs": [],
   "source": [
    "GDP=replace_name(data[4][['Sgnyea', 'Prvcnm', 'GDP', 'GDP_Ind1', 'GDP_Ind2',\\\n",
    "                          'GDP_Ind3', 'GDP_Finance', 'GDP_pct_Ind1', 'GDP_pct_Ind2',\\\n",
    "                          'GDP_pct_Ind3']])\n",
    "GDP.columns=['SgnYear', 'AreaName', 'GDP', 'GDP_Ind1', 'GDP_Ind2',\\\n",
    "             'GDP_Ind3', 'GDP_Finance', 'GDP_pct_Ind1', 'GDP_pct_Ind2',\\\n",
    "             'GDP_pct_Ind3']"
   ]
  },
  {
   "cell_type": "code",
   "execution_count": 57,
   "metadata": {},
   "outputs": [],
   "source": [
    "CPI=replace_name(data[5][['Sgnyea', 'Prvcnm', \"CPI\",\"CPI_City\"]])\n",
    "CPI.columns=['SgnYear', 'AreaName', \"CPI\",\"CPI_City\"]"
   ]
  },
  {
   "cell_type": "code",
   "execution_count": 68,
   "metadata": {},
   "outputs": [],
   "source": [
    "#这里找成了农村居民的数据，可能需要重新找一下\n",
    "Income=replace_name(data[6][['Sgnyea', 'Prvcnm', \"Inco1002\"]])\n",
    "Income.columns=['SgnYear', 'AreaName', \"Income_nong\"]"
   ]
  },
  {
   "cell_type": "code",
   "execution_count": 69,
   "metadata": {},
   "outputs": [],
   "source": [
    "Income=replace_name(data[7][['Sgnyea', 'Prvcnm', \"Indu0101\",\"Indu0102\", \"Indu0106\", \"Indu0109\", \"Indu0110\"]])"
   ]
  },
  {
   "cell_type": "code",
   "execution_count": 71,
   "metadata": {},
   "outputs": [],
   "source": [
    "Wage=replace_name(data[8][['Sgnyea', 'Prvcnm','Epwa0401']])\n",
    "Wage.columns=['Sgnyea', 'Prvcnm','Wage']"
   ]
  },
  {
   "cell_type": "code",
   "execution_count": 80,
   "metadata": {},
   "outputs": [],
   "source": [
    "Num_Univ=replace_name(data[10][['Prvcnm','Num_985','Num_211']])\n",
    "Num_Univ.columns=['AreaName','Num_985','Num_211']"
   ]
  },
  {
   "cell_type": "code",
   "execution_count": null,
   "metadata": {},
   "outputs": [],
   "source": []
  }
 ],
 "metadata": {
  "kernelspec": {
   "display_name": "Python 3",
   "language": "python",
   "name": "python3"
  },
  "language_info": {
   "codemirror_mode": {
    "name": "ipython",
    "version": 3
   },
   "file_extension": ".py",
   "mimetype": "text/x-python",
   "name": "python",
   "nbconvert_exporter": "python",
   "pygments_lexer": "ipython3",
   "version": "3.7.3"
  }
 },
 "nbformat": 4,
 "nbformat_minor": 2
}
